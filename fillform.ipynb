{
 "cells": [
  {
   "cell_type": "code",
   "execution_count": 1,
   "metadata": {},
   "outputs": [],
   "source": [
    "#Import webdriver from selenium and image from IPython.display to display image\n",
    "from selenium import webdriver\n",
    "from IPython.display import Image"
   ]
  },
  {
   "cell_type": "code",
   "execution_count": 2,
   "metadata": {},
   "outputs": [],
   "source": [
    "#function to take in data and use it to fill form\n",
    "#created this for http://www.canwinconsulting.com/contact.html.\n",
    "def fill_form():\n",
    "    url = input('Enter URL:')\n",
    "    name = input('Enter Full name:')\n",
    "    email = input('Enter email:')\n",
    "    num = input('Enter Phone no:')\n",
    "    message = input('Enter your message:')\n",
    "    \n",
    "    browser = webdriver.Chrome()\n",
    "    browser.get(url)\n",
    "    fnn = browser.find_element_by_id(\"input-413254894165575462\")\n",
    "    fnn2 = browser.find_element_by_id(\"input-660426841163004760\")\n",
    "    fnn3 = browser.find_element_by_id(\"input-962351277160550140\")\n",
    "    fnn4 = browser.find_element_by_id(\"input-382866073402835830\")\n",
    "    fnn.send_keys(name)\n",
    "    fnn2.send_keys(email)\n",
    "    fnn3.send_keys(num)\n",
    "    fnn4.send_keys(message)\n",
    "    \n",
    "    browser.get_screenshot_as_file(\"screenshot.png\")\n",
    "    img = Image(filename='screenshot.png') \n",
    "    return img"
   ]
  },
  {
   "cell_type": "code",
   "execution_count": null,
   "metadata": {
    "collapsed": true
   },
   "outputs": [],
   "source": [
    "fill_form()"
   ]
  }
 ],
 "metadata": {
  "kernelspec": {
   "display_name": "Python 3",
   "language": "python",
   "name": "python3"
  },
  "language_info": {
   "codemirror_mode": {
    "name": "ipython",
    "version": 3
   },
   "file_extension": ".py",
   "mimetype": "text/x-python",
   "name": "python",
   "nbconvert_exporter": "python",
   "pygments_lexer": "ipython3",
   "version": "3.8.2"
  }
 },
 "nbformat": 4,
 "nbformat_minor": 4
}
